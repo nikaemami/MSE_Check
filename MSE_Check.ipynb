{
 "cells": [
  {
   "cell_type": "markdown",
   "metadata": {},
   "source": [
    "The dataset is initiated as below:"
   ]
  },
  {
   "cell_type": "code",
   "execution_count": null,
   "metadata": {},
   "outputs": [],
   "source": [
    "import numpy as np\n",
    "import math\n",
    "x = np.arange(-10, 10, 0.2)\n",
    "y = (2 * np.cos(x)/(- np.pi)) + (2 * np.sin(2 * x)/(2 * np.pi)) + (2 * np.cos(3 * x)/(-3 * np.pi))\n",
    "y_v = np.reshape(y,(len(y),1))"
   ]
  },
  {
   "cell_type": "markdown",
   "metadata": {},
   "source": [
    "I add Gaussian and Poisson noise to the data using **NumPy**:"
   ]
  },
  {
   "cell_type": "code",
   "execution_count": 4,
   "metadata": {},
   "outputs": [],
   "source": [
    "mean = 0\n",
    "var = 1 \n",
    "gaussian_noise = np.random.normal(mean, var, size = len(y))\n",
    "gaussian = y + 0.12 * gaussian_noise\n",
    "poisson_noise = np.random.poisson(2, len(y))\n",
    "poisson = y + 0.12 * poisson_noise"
   ]
  },
  {
   "cell_type": "markdown",
   "metadata": {},
   "source": [
    "I define a function to calculate the estimated Gaussian and Poisson distributions by computing matrix A (with different exponents of x) and computing B according to the corresponding mathimatical expressions."
   ]
  },
  {
   "cell_type": "code",
   "execution_count": 5,
   "metadata": {},
   "outputs": [],
   "source": [
    "def estimations (x,y,n):\n",
    "    A = np.ones((len(x),2))\n",
    "    x_v = np.reshape(x,(len(x),1))\n",
    "    for i in range(1,n+1):\n",
    "        A_new = np.power(x_v,i)\n",
    "        A = np.hstack((A,A_new))\n",
    "    A = np.delete(A,0,1)\n",
    "    B1 = np.dot(np.matrix.transpose(A),A)\n",
    "    B2 = np.linalg.inv(B1)\n",
    "    B3 = A.transpose()\n",
    "    gaussian_reshape = np.reshape(gaussian,(len(gaussian),1))\n",
    "    poisson_reshape = np.reshape(poisson,(len(poisson),1))\n",
    "    B4 = np.dot(B2,B3)\n",
    "    B_gaussian = np.dot(B4,gaussian_reshape)\n",
    "    B_poisson = np.dot(B4,poisson_reshape)\n",
    "    fx_gaussian = np.dot(A,B_gaussian)\n",
    "    fx_poisson = np.dot(A,B_poisson)\n",
    "    return fx_gaussian, fx_poisson"
   ]
  },
  {
   "cell_type": "markdown",
   "metadata": {},
   "source": [
    "I find **minimum** and **maximum** errors of all the 15 different estimations.\n",
    "\n",
    "\n",
    "As follows, it can be seen that the best degree of the estimator is 15 and the worst is 1:"
   ]
  },
  {
   "cell_type": "code",
   "execution_count": 6,
   "metadata": {},
   "outputs": [
    {
     "name": "stdout",
     "output_type": "stream",
     "text": [
      "min gaussian index =  15\n",
      "max gaussian index =  1\n",
      "min poisson index =  15\n",
      "max poisson index =  1\n"
     ]
    }
   ],
   "source": [
    "error_gaussian_n = []\n",
    "error_poisson_n = []\n",
    "for i in range(1,16):\n",
    "    fx_gaussian, fx_poisson = estimations (x,y,i)\n",
    "    error_gaussian_n.append(1/len(x)*(np.linalg.norm(fx_gaussian - y_v))**2)\n",
    "    error_poisson_n.append(1/len(x)*(np.linalg.norm(fx_poisson - y_v))**2)\n",
    "\n",
    "min_gaussian = min(error_gaussian_n)\n",
    "min_gaussian_index = error_gaussian_n.index(min_gaussian)+1\n",
    "print(\"min gaussian index = \", min_gaussian_index)\n",
    "max_gaussian = max(error_gaussian_n)\n",
    "max_gaussian_index = error_gaussian_n.index(max_gaussian)+1\n",
    "print(\"max gaussian index = \", max_gaussian_index)\n",
    "min_poisson = min(error_poisson_n)\n",
    "min_poisson_index = error_poisson_n.index(min_poisson)+1\n",
    "print(\"min poisson index = \", min_poisson_index)\n",
    "max_poisson = max(error_poisson_n)\n",
    "max_poisson_index = error_poisson_n.index(max_poisson)+1\n",
    "print(\"max poisson index = \", max_poisson_index)\n",
    "\n"
   ]
  },
  {
   "cell_type": "markdown",
   "metadata": {},
   "source": [
    "Plotting the calculated estimations, and finding **MSE error** for each of them as follows:"
   ]
  },
  {
   "cell_type": "code",
   "execution_count": 7,
   "metadata": {},
   "outputs": [
    {
     "name": "stdout",
     "output_type": "stream",
     "text": [
      "MSE error gaussian model n=1 0.28776835909197235\n",
      "MSE error gaussian model n=4 0.22964726615829797\n",
      "MSE error gaussian model n=7 0.20982053507166448\n",
      "MSE error gaussian model n=15 0.0508144148443766\n",
      "MSE error poisson model n=1 0.28776835909197235\n",
      "MSE error poisson model n=4 0.22964726615829797\n",
      "MSE error poisson model n=7 0.20982053507166448\n",
      "MSE error poisson model n=15 0.0508144148443766\n"
     ]
    },
    {
     "data": {
      "image/png": "[encoded data removed]",
      "text/plain": [
       "<Figure size 432x288 with 1 Axes>"
      ]
     },
     "metadata": {
      "needs_background": "light"
     },
     "output_type": "display_data"
    }
   ],
   "source": [
    "import matplotlib.pyplot as plt\n",
    "y1_gaussian, y1_poisson = estimations (x,y,1)\n",
    "y4_gaussian, y4_poisson = estimations (x,y,4)\n",
    "y7_gaussian, y7_poisson = estimations (x,y,7)\n",
    "y15_gaussian, y15_poisson = estimations (x,y,15)\n",
    "plt.plot(x,y1_gaussian,label='n=1')\n",
    "plt.plot(x,y4_gaussian,label='n=4')\n",
    "plt.plot(x,y7_gaussian,label='n=7')\n",
    "plt.plot(x,y15_gaussian,label='n=15')\n",
    "plt.legend(['1','4','7','15'])\n",
    "print(\"MSE error gaussian model n=1\",error_gaussian_n[0])\n",
    "print(\"MSE error gaussian model n=4\",error_gaussian_n[3])\n",
    "print(\"MSE error gaussian model n=7\",error_gaussian_n[6])\n",
    "print(\"MSE error gaussian model n=15\",error_gaussian_n[14])\n",
    "print(\"MSE error poisson model n=1\",error_gaussian_n[0])\n",
    "print(\"MSE error poisson model n=4\",error_gaussian_n[3])\n",
    "print(\"MSE error poisson model n=7\",error_gaussian_n[6])\n",
    "print(\"MSE error poisson model n=15\",error_gaussian_n[14])\n",
    "\n",
    "\n"
   ]
  },
  {
   "cell_type": "markdown",
   "metadata": {},
   "source": [
    "By using the mathematical expressions we have for **bias** and **variance**, I define the two functions below to calculate these values."
   ]
  },
  {
   "cell_type": "code",
   "execution_count": 18,
   "metadata": {},
   "outputs": [],
   "source": [
    "import math\n",
    "\n",
    "def var_calc(f):\n",
    "    E = sum(f) / len(f)\n",
    "    new_f = np.empty((1, len(f)))\n",
    "    new_f = ((f - E) ** 2)\n",
    "    variance = sum(new_f) / len(new_f)\n",
    "    return variance\n",
    "\n",
    "def bias_calc (f,f_star,variance):\n",
    "    new_f = (f - f_star) ** 2\n",
    "    E = sum(new_f) / len(new_f)\n",
    "    bias = math.sqrt(E - variance)\n",
    "    return bias"
   ]
  },
  {
   "cell_type": "markdown",
   "metadata": {},
   "source": [
    "calculating bias and variance for each of the cases as follows:"
   ]
  },
  {
   "cell_type": "code",
   "execution_count": 24,
   "metadata": {},
   "outputs": [
    {
     "name": "stdout",
     "output_type": "stream",
     "text": [
      "variance for n=1 gaussian =  [0.00010497]\n",
      "variance for n=1 poisson =  [0.00051191]\n",
      "bias for n=1 gaussian =  0.48857515069655155\n",
      "bias for n=1 poisson =  0.49278958808790874\n"
     ]
    }
   ],
   "source": [
    "var_1_gaussian = var_calc(y1_gaussian)\n",
    "var_1_poisson = var_calc(y1_poisson)\n",
    "bias_1_gaussian = bias_calc(y1_gaussian,y15_gaussian,var_1_gaussian)\n",
    "bias_1_poisson = bias_calc(y1_poisson,y15_poisson,var_1_poisson)\n",
    "print(\"variance for n=1 gaussian = \",var_1_gaussian)\n",
    "print(\"variance for n=1 poisson = \",var_1_poisson)\n",
    "print(\"bias for n=1 gaussian = \",bias_1_gaussian)\n",
    "print(\"bias for n=1 poisson = \", bias_1_poisson)"
   ]
  },
  {
   "cell_type": "code",
   "execution_count": 25,
   "metadata": {},
   "outputs": [
    {
     "name": "stdout",
     "output_type": "stream",
     "text": [
      "variance for n=4 gaussian =  [0.05712822]\n",
      "variance for n=4 poisson =  [0.05007849]\n",
      "bias for n=4 gaussian =  0.3530710597522217\n",
      "bias for n=4 poisson =  0.37908895177787416\n"
     ]
    }
   ],
   "source": [
    "var_4_gaussian = var_calc(y4_gaussian)\n",
    "var_4_poisson = var_calc(y4_poisson)\n",
    "bias_4_gaussian = bias_calc(y4_gaussian,y15_gaussian,var_4_gaussian)\n",
    "bias_4_poisson = bias_calc(y4_poisson,y15_poisson,var_4_poisson)\n",
    "print(\"variance for n=4 gaussian = \",var_4_gaussian)\n",
    "print(\"variance for n=4 poisson = \",var_4_poisson)\n",
    "print(\"bias for n=4 gaussian = \",bias_4_gaussian)\n",
    "print(\"bias for n=4 poisson = \", bias_4_poisson)"
   ]
  },
  {
   "cell_type": "code",
   "execution_count": 26,
   "metadata": {},
   "outputs": [
    {
     "name": "stdout",
     "output_type": "stream",
     "text": [
      "variance for n=1 gaussian =  [0.0727685]\n",
      "variance for n=1 poisson =  [0.07730579]\n",
      "bias for n=7 gaussian =  0.3055791256898673\n",
      "bias for n=7 poisson =  0.29875378998089364\n"
     ]
    }
   ],
   "source": [
    "var_7_gaussian = var_calc(y7_gaussian)\n",
    "var_7_poisson = var_calc(y7_poisson)\n",
    "bias_7_gaussian = bias_calc(y7_gaussian,y15_gaussian,var_7_gaussian)\n",
    "bias_7_poisson = bias_calc(y7_poisson,y15_poisson,var_7_poisson)\n",
    "print(\"variance for n=7 gaussian = \",var_7_gaussian)\n",
    "print(\"variance for n=7 poisson = \",var_7_poisson)\n",
    "print(\"bias for n=7 gaussian = \",bias_7_gaussian)\n",
    "print(\"bias for n=7 poisson = \", bias_7_poisson)"
   ]
  },
  {
   "cell_type": "code",
   "execution_count": 28,
   "metadata": {},
   "outputs": [
    {
     "name": "stdout",
     "output_type": "stream",
     "text": [
      "variance for n=15 gaussian =  [0.23891561]\n",
      "variance for n=15 poisson =  [0.24386541]\n"
     ]
    }
   ],
   "source": [
    "var_15_gaussian = var_calc(y15_gaussian)\n",
    "var_15_poisson = var_calc(y15_poisson)\n",
    "print(\"variance for n=15 gaussian = \",var_15_gaussian)\n",
    "print(\"variance for n=15 poisson = \",var_15_poisson)\n"
   ]
  }
 ],
 "metadata": {
  "interpreter": {
   "hash": "eeab3e71adb6dbd0e75fb9a8c9bdb5e7c4aba7cf3fd60c4dcf30c1777b01516d"
  },
  "kernelspec": {
   "display_name": "Python 3",
   "language": "python",
   "name": "python3"
  },
  "language_info": {
   "codemirror_mode": {
    "name": "ipython",
    "version": 3
   },
   "file_extension": ".py",
   "mimetype": "text/x-python",
   "name": "python",
   "nbconvert_exporter": "python",
   "pygments_lexer": "ipython3",
   "version": "3.8.5"
  }
 },
 "nbformat": 4,
 "nbformat_minor": 2
}
